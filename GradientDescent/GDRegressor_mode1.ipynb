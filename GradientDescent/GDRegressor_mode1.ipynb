{
 "cells": [
  {
   "cell_type": "code",
   "execution_count": 104,
   "metadata": {},
   "outputs": [],
   "source": [
    "import numpy as np\n",
    "import pandas as pd\n",
    "from tqdm import tqdm\n",
    "from sklearn.base import BaseEstimator\n",
    "from sklearn.metrics import mean_squared_error, log_loss, roc_auc_score\n",
    "from sklearn.model_selection import train_test_split\n",
    "%matplotlib inline\n",
    "from matplotlib import pyplot as plt\n",
    "from sklearn.preprocessing import StandardScaler\n",
    "\n",
    "import seaborn as sns\n",
    "sns.set(rc={'figure.figsize': (9, 6)})"
   ]
  },
  {
   "cell_type": "code",
   "execution_count": 78,
   "metadata": {},
   "outputs": [],
   "source": [
    "class GDRegressor_mode(BaseEstimator):\n",
    "\n",
    "    def __init__(self, eta=10**-3, n_iter=10, quiet=False):\n",
    "        self.mse_ = []\n",
    "        self.weights_ = []\n",
    "        self.params = {}\n",
    "        self.params['eta'] = eta\n",
    "        self.params['n_iter'] = n_iter\n",
    "        self.params['quiet'] = quiet\n",
    "        super(GDRegressor_mode, self).set_params(**self.params)\n",
    "    \n",
    "    def fit(self, X, y):\n",
    "        self.w = [0] * (len(X[0]) + 1)\n",
    "        \n",
    "        for epoch in range(self.params['n_iter']):\n",
    "            derivative_w0 = 0\n",
    "            derivative_wn = [0] * len(X[0])\n",
    "\n",
    "            for i in range(len(y)):\n",
    "                y_pred = self.predict([X[i]])[0]\n",
    "                error = y_pred - y[i]\n",
    "                derivative_w0 += error\n",
    "                for j in range(len(X[i])):\n",
    "                    derivative_wn[j] += error * X[i][j]\n",
    "                \n",
    "            self.w[0] = self.w[0] - self.params['eta'] * derivative_w0 / len(y)\n",
    "            for j in range(len(X[i])):\n",
    "                self.w[j+1] = self.w[j+1] - self.params['eta'] * derivative_wn[j] / len(y)\n",
    "            mse = mean_squared_error(y, self.predict(X))\n",
    "\n",
    "            self.mse_.append(mse)\n",
    "            self.weights_.append(self.w.copy())\n",
    "    \n",
    "            if not self.params['quiet']:\n",
    "                out = f'>epoch={epoch}, mse={mse:.6f}'\n",
    "                for i in range(len(self.w)):\n",
    "                    out += f', w{i}={self.w[i]:.6f}'\n",
    "                print(out)\n",
    "                  \n",
    "        return self\n",
    "\n",
    "    def predict(self, X):\n",
    "        y_pred = []\n",
    "        for i in range(len(X)):\n",
    "            pred = self.w[0]\n",
    "            for j in range(len(X[i])):\n",
    "                pred += self.w[j+1]*X[i][j]\n",
    "            y_pred.append(pred)\n",
    "        return y_pred"
   ]
  },
  {
   "cell_type": "code",
   "execution_count": 101,
   "metadata": {
    "scrolled": true
   },
   "outputs": [
    {
     "name": "stdout",
     "output_type": "stream",
     "text": [
      ">epoch=0, mse=0.430938, w0=0.050000, w1=0.025000, w2=0.025000\n",
      ">epoch=1, mse=0.381994, w0=0.092500, w1=0.045625, w2=0.045625\n",
      ">epoch=2, mse=0.347275, w0=0.128688, w1=0.062578, w2=0.062578\n",
      ">epoch=3, mse=0.322612, w0=0.159561, w1=0.076450, w2=0.076450\n",
      ">epoch=4, mse=0.305061, w0=0.185960, w1=0.087739, w2=0.087739\n",
      ">epoch=5, mse=0.292541, w0=0.208590, w1=0.096860, w2=0.096860\n",
      ">epoch=6, mse=0.283578, w0=0.228045, w1=0.104166, w2=0.104166\n",
      ">epoch=7, mse=0.277135, w0=0.244824, w1=0.109951, w2=0.109951\n",
      ">epoch=8, mse=0.272475, w0=0.259346, w1=0.114464, w2=0.114464\n",
      ">epoch=9, mse=0.269079, w0=0.271965, w1=0.117912, w2=0.117912\n",
      ">epoch=10, mse=0.266579, w0=0.282978, w1=0.120470, w2=0.120470\n",
      ">epoch=11, mse=0.264716, w0=0.292633, w1=0.122286, w2=0.122286\n",
      ">epoch=12, mse=0.263306, w0=0.301141, w1=0.123483, w2=0.123483\n",
      ">epoch=13, mse=0.262218, w0=0.308679, w1=0.124165, w2=0.124165\n",
      ">epoch=14, mse=0.261362, w0=0.315394, w1=0.124418, w2=0.124418\n",
      ">epoch=15, mse=0.260673, w0=0.321413, w1=0.124317, w2=0.124317\n",
      ">epoch=16, mse=0.260103, w0=0.326840, w1=0.123923, w2=0.123923\n",
      ">epoch=17, mse=0.259620, w0=0.331764, w1=0.123287, w2=0.123287\n",
      ">epoch=18, mse=0.259202, w0=0.336259, w1=0.122452, w2=0.122452\n",
      ">epoch=19, mse=0.258832, w0=0.340388, w1=0.121455, w2=0.121455\n"
     ]
    },
    {
     "data": {
      "text/plain": [
       "GDRegressor_mode(eta=0.1, n_iter=20, quiet=False)"
      ]
     },
     "execution_count": 101,
     "metadata": {},
     "output_type": "execute_result"
    }
   ],
   "source": [
    "gd = GDRegressor_mode(n_iter=20, eta=10**-1)\n",
    "\n",
    "# XOR dataset\n",
    "X = np.array([\n",
    "    [0, 1],\n",
    "    [1, 0],\n",
    "    [1, 1],\n",
    "    [0, 0]\n",
    "])\n",
    "y = np.array([1, 1, 0, 0])\n",
    "\n",
    "gd.fit(X, y)"
   ]
  },
  {
   "cell_type": "code",
   "execution_count": 74,
   "metadata": {},
   "outputs": [],
   "source": [
    "data_demo = pd.read_csv('../data/weights_heights.csv')\n",
    "X, y = data_demo['Weight'].values, data_demo['Height'].values\n",
    "X_train, X_valid, y_train, y_valid = train_test_split(X, y, test_size=0.3, random_state=17)\n",
    "scaler = StandardScaler()\n",
    "X_train_scaled = scaler.fit_transform(X_train.reshape([X_train.shape[0], 1]))\n",
    "X_valid_scaled = scaler.transform(X_valid.reshape([X_valid.shape[0], 1]))"
   ]
  },
  {
   "cell_type": "code",
   "execution_count": null,
   "metadata": {},
   "outputs": [],
   "source": []
  },
  {
   "cell_type": "code",
   "execution_count": 118,
   "metadata": {
    "scrolled": true
   },
   "outputs": [
    {
     "name": "stdout",
     "output_type": "stream",
     "text": [
      ">epoch=0, mse=3747.701355, w0=6.798931, w1=0.094537\n",
      ">epoch=1, mse=3036.153973, w0=12.917969, w1=0.179621\n",
      ">epoch=2, mse=2459.800594, w0=18.425103, w1=0.256196\n",
      ">epoch=3, mse=1992.954357, w0=23.381523, w1=0.325114\n",
      ">epoch=4, mse=1614.808904, w0=27.842302, w1=0.387140\n",
      ">epoch=5, mse=1308.511088, w0=31.857002, w1=0.442963\n",
      ">epoch=6, mse=1060.409857, w0=35.470233, w1=0.493204\n",
      ">epoch=7, mse=859.447859, w0=38.722140, w1=0.538421\n",
      ">epoch=8, mse=696.668642, w0=41.648857, w1=0.579116\n",
      ">epoch=9, mse=564.817475, w0=44.282902, w1=0.615742\n",
      ">epoch=10, mse=458.018030, w0=46.653543, w1=0.648705\n",
      ">epoch=11, mse=371.510480, w0=48.787120, w1=0.678372\n",
      ">epoch=12, mse=301.439364, w0=50.707338, w1=0.705072\n",
      ">epoch=13, mse=244.681761, w0=52.435535, w1=0.729102\n",
      ">epoch=14, mse=198.708102, w0=53.990913, w1=0.750729\n",
      ">epoch=15, mse=161.469438, w0=55.390752, w1=0.770193\n",
      ">epoch=16, mse=131.306120, w0=56.650608, w1=0.787711\n",
      ">epoch=17, mse=106.873833, w0=57.784478, w1=0.803477\n",
      ">epoch=18, mse=87.083680, w0=58.804961, w1=0.817667\n",
      ">epoch=19, mse=71.053656, w0=59.723396, w1=0.830438\n",
      ">epoch=20, mse=58.069337, w0=60.549987, w1=0.841931\n",
      ">epoch=21, mse=47.552039, w0=61.293919, w1=0.852275\n",
      ">epoch=22, mse=39.033027, w0=61.963458, w1=0.861585\n",
      ">epoch=23, mse=32.132627, w0=62.566043, w1=0.869964\n",
      ">epoch=24, mse=26.543303, w0=63.108370, w1=0.877505\n",
      ">epoch=25, mse=22.015951, w0=63.596463, w1=0.884291\n",
      ">epoch=26, mse=18.348796, w0=64.035748, w1=0.890400\n",
      ">epoch=27, mse=15.378400, w0=64.431104, w1=0.895897\n",
      ">epoch=28, mse=12.972380, w0=64.786924, w1=0.900845\n",
      ">epoch=29, mse=11.023503, w0=65.107163, w1=0.905297\n",
      ">epoch=30, mse=9.444913, w0=65.395377, w1=0.909305\n",
      ">epoch=31, mse=8.166255, w0=65.654770, w1=0.912912\n",
      ">epoch=32, mse=7.130542, w0=65.888224, w1=0.916158\n",
      ">epoch=33, mse=6.291615, w0=66.098333, w1=0.919079\n",
      ">epoch=34, mse=5.612083, w0=66.287430, w1=0.921709\n",
      ">epoch=35, mse=5.061663, w0=66.457618, w1=0.924075\n",
      ">epoch=36, mse=4.615822, w0=66.610787, w1=0.926205\n",
      ">epoch=37, mse=4.254692, w0=66.748639, w1=0.928122\n",
      ">epoch=38, mse=3.962176, w0=66.872706, w1=0.929847\n",
      ">epoch=39, mse=3.725238, w0=66.984366, w1=0.931399\n",
      ">epoch=40, mse=3.533318, w0=67.084861, w1=0.932797\n",
      ">epoch=41, mse=3.377863, w0=67.175305, w1=0.934054\n",
      ">epoch=42, mse=3.251945, w0=67.256706, w1=0.935186\n",
      ">epoch=43, mse=3.149951, w0=67.329966, w1=0.936205\n",
      ">epoch=44, mse=3.067336, w0=67.395900, w1=0.937122\n",
      ">epoch=45, mse=3.000417, w0=67.455241, w1=0.937947\n",
      ">epoch=46, mse=2.946213, w0=67.508648, w1=0.938689\n",
      ">epoch=47, mse=2.902308, w0=67.556714, w1=0.939358\n",
      ">epoch=48, mse=2.866745, w0=67.599973, w1=0.939959\n",
      ">epoch=49, mse=2.837939, w0=67.638907, w1=0.940501\n",
      ">epoch=50, mse=2.814606, w0=67.673947, w1=0.940988\n",
      ">epoch=51, mse=2.795707, w0=67.705483, w1=0.941426\n",
      ">epoch=52, mse=2.780398, w0=67.733866, w1=0.941821\n",
      ">epoch=53, mse=2.767998, w0=67.759410, w1=0.942176\n",
      ">epoch=54, mse=2.757954, w0=67.782400, w1=0.942496\n",
      ">epoch=55, mse=2.749818, w0=67.803091, w1=0.942783\n",
      ">epoch=56, mse=2.743228, w0=67.821712, w1=0.943042\n",
      ">epoch=57, mse=2.737890, w0=67.838472, w1=0.943275\n",
      ">epoch=58, mse=2.733567, w0=67.853556, w1=0.943485\n",
      ">epoch=59, mse=2.730064, w0=67.867131, w1=0.943674\n",
      ">epoch=60, mse=2.727228, w0=67.879349, w1=0.943844\n",
      ">epoch=61, mse=2.724930, w0=67.890345, w1=0.943997\n",
      ">epoch=62, mse=2.723069, w0=67.900241, w1=0.944134\n",
      ">epoch=63, mse=2.721561, w0=67.909148, w1=0.944258\n",
      ">epoch=64, mse=2.720340, w0=67.917164, w1=0.944370\n",
      ">epoch=65, mse=2.719351, w0=67.924378, w1=0.944470\n",
      ">epoch=66, mse=2.718550, w0=67.930871, w1=0.944560\n",
      ">epoch=67, mse=2.717901, w0=67.936715, w1=0.944641\n",
      ">epoch=68, mse=2.717375, w0=67.941974, w1=0.944715\n",
      ">epoch=69, mse=2.716949, w0=67.946708, w1=0.944780\n",
      ">epoch=70, mse=2.716604, w0=67.950968, w1=0.944840\n",
      ">epoch=71, mse=2.716325, w0=67.954802, w1=0.944893\n",
      ">epoch=72, mse=2.716099, w0=67.958252, w1=0.944941\n",
      ">epoch=73, mse=2.715916, w0=67.961358, w1=0.944984\n",
      ">epoch=74, mse=2.715767, w0=67.964153, w1=0.945023\n",
      ">epoch=75, mse=2.715647, w0=67.966669, w1=0.945058\n",
      ">epoch=76, mse=2.715549, w0=67.968933, w1=0.945089\n",
      ">epoch=77, mse=2.715470, w0=67.970970, w1=0.945118\n",
      ">epoch=78, mse=2.715407, w0=67.972804, w1=0.945143\n",
      ">epoch=79, mse=2.715355, w0=67.974454, w1=0.945166\n",
      ">epoch=80, mse=2.715313, w0=67.975940, w1=0.945187\n",
      ">epoch=81, mse=2.715279, w0=67.977277, w1=0.945205\n",
      ">epoch=82, mse=2.715251, w0=67.978480, w1=0.945222\n",
      ">epoch=83, mse=2.715229, w0=67.979563, w1=0.945237\n",
      ">epoch=84, mse=2.715211, w0=67.980537, w1=0.945251\n",
      ">epoch=85, mse=2.715196, w0=67.981414, w1=0.945263\n",
      ">epoch=86, mse=2.715185, w0=67.982204, w1=0.945274\n",
      ">epoch=87, mse=2.715175, w0=67.982914, w1=0.945284\n",
      ">epoch=88, mse=2.715167, w0=67.983554, w1=0.945293\n",
      ">epoch=89, mse=2.715161, w0=67.984129, w1=0.945301\n",
      ">epoch=90, mse=2.715156, w0=67.984647, w1=0.945308\n",
      ">epoch=91, mse=2.715152, w0=67.985113, w1=0.945314\n",
      ">epoch=92, mse=2.715148, w0=67.985533, w1=0.945320\n",
      ">epoch=93, mse=2.715146, w0=67.985910, w1=0.945326\n",
      ">epoch=94, mse=2.715143, w0=67.986250, w1=0.945330\n",
      ">epoch=95, mse=2.715142, w0=67.986556, w1=0.945335\n",
      ">epoch=96, mse=2.715140, w0=67.986831, w1=0.945338\n",
      ">epoch=97, mse=2.715139, w0=67.987079, w1=0.945342\n",
      ">epoch=98, mse=2.715138, w0=67.987302, w1=0.945345\n",
      ">epoch=99, mse=2.715137, w0=67.987502, w1=0.945348\n",
      "Wall time: 13.8 s\n"
     ]
    },
    {
     "data": {
      "text/plain": [
       "2.6708257724202014"
      ]
     },
     "execution_count": 118,
     "metadata": {},
     "output_type": "execute_result"
    }
   ],
   "source": [
    "%%time\n",
    "gd = GDRegressor_mode(quiet=False, n_iter=100, eta=10**-1)\n",
    "gd.fit(X_train_scaled, y_train)\n",
    "mean_squared_error(y_valid, gd.predict(X_valid_scaled))"
   ]
  },
  {
   "cell_type": "code",
   "execution_count": 119,
   "metadata": {},
   "outputs": [
    {
     "data": {
      "image/png": "[encoded data removed]",
      "text/plain": [
       "<Figure size 648x432 with 1 Axes>"
      ]
     },
     "metadata": {},
     "output_type": "display_data"
    }
   ],
   "source": [
    "plt.plot(range(1, len(gd.mse_)+1), gd.mse_, linewidth=1);"
   ]
  },
  {
   "cell_type": "code",
   "execution_count": 120,
   "metadata": {},
   "outputs": [
    {
     "data": {
      "image/png": "[encoded data removed]",
      "text/plain": [
       "<Figure size 648x432 with 1 Axes>"
      ]
     },
     "metadata": {},
     "output_type": "display_data"
    }
   ],
   "source": [
    "plt.plot(np.array(gd.weights_).T.tolist()[0], np.array(gd.weights_).T.tolist()[1], linewidth=1)\n",
    "plt.xlabel('w0')\n",
    "plt.ylabel('w1');"
   ]
  },
  {
   "cell_type": "code",
   "execution_count": null,
   "metadata": {},
   "outputs": [],
   "source": []
  },
  {
   "cell_type": "code",
   "execution_count": 86,
   "metadata": {},
   "outputs": [
    {
     "name": "stdout",
     "output_type": "stream",
     "text": [
      "Wall time: 163 ms\n"
     ]
    },
    {
     "data": {
      "text/plain": [
       "2.670830767667632"
      ]
     },
     "execution_count": 86,
     "metadata": {},
     "output_type": "execute_result"
    }
   ],
   "source": [
    "%%time\n",
    "gd = GDRegressor_mode(quiet=True, n_iter=1, eta=1)\n",
    "gd.fit(X_train_scaled, y_train)\n",
    "mean_squared_error(y_valid, gd.predict(X_valid_scaled))"
   ]
  },
  {
   "cell_type": "code",
   "execution_count": 87,
   "metadata": {},
   "outputs": [
    {
     "name": "stdout",
     "output_type": "stream",
     "text": [
      "Wall time: 2 ms\n"
     ]
    },
    {
     "data": {
      "text/plain": [
       "2.670830767667635"
      ]
     },
     "execution_count": 87,
     "metadata": {},
     "output_type": "execute_result"
    }
   ],
   "source": [
    "%%time\n",
    "from sklearn.linear_model import LinearRegression\n",
    "lr = LinearRegression()\n",
    "lr.fit(X_train_scaled, y_train)\n",
    "mean_squared_error(y_valid, lr.predict(X_valid_scaled))"
   ]
  },
  {
   "cell_type": "code",
   "execution_count": null,
   "metadata": {},
   "outputs": [],
   "source": []
  },
  {
   "cell_type": "code",
   "execution_count": null,
   "metadata": {},
   "outputs": [],
   "source": []
  }
 ],
 "metadata": {
  "kernelspec": {
   "display_name": "Python 3",
   "language": "python",
   "name": "python3"
  },
  "language_info": {
   "codemirror_mode": {
    "name": "ipython",
    "version": 3
   },
   "file_extension": ".py",
   "mimetype": "text/x-python",
   "name": "python",
   "nbconvert_exporter": "python",
   "pygments_lexer": "ipython3",
   "version": "3.7.3"
  }
 },
 "nbformat": 4,
 "nbformat_minor": 2
}
