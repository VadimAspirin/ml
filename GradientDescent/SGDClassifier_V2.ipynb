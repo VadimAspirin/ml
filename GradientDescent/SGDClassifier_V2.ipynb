{
 "cells": [
  {
   "cell_type": "code",
   "execution_count": 616,
   "metadata": {},
   "outputs": [],
   "source": [
    "import numpy as np\n",
    "import pandas as pd\n",
    "from tqdm import tqdm\n",
    "from sklearn.base import BaseEstimator\n",
    "from sklearn.metrics import mean_squared_error, log_loss, roc_auc_score, accuracy_score\n",
    "from sklearn.model_selection import train_test_split\n",
    "%matplotlib inline\n",
    "from matplotlib import pyplot as plt\n",
    "from sklearn.preprocessing import StandardScaler\n",
    "\n",
    "import seaborn as sns\n",
    "sns.set(rc={'figure.figsize': (9, 6)})"
   ]
  },
  {
   "cell_type": "code",
   "execution_count": 611,
   "metadata": {},
   "outputs": [],
   "source": [
    "class SGDClassifier(BaseEstimator):\n",
    "\n",
    "    def __init__(self, eta=10**-3, max_iter=10, alpha=10*-4, quiet=False):\n",
    "        self.loss_ = []\n",
    "        self.weights_ = []\n",
    "        self.params = {}\n",
    "        self.params['eta'] = eta\n",
    "        self.params['max_iter'] = max_iter\n",
    "        self.params['alpha'] = alpha\n",
    "        self.params['quiet'] = quiet\n",
    "        super(SGDClassifier, self).set_params(**self.params)\n",
    "    \n",
    "    def sigma(self, z):\n",
    "        if z > 100:\n",
    "            z = 100\n",
    "        elif z < -100:\n",
    "            z = -100\n",
    "        return 1. / (1 + np.exp(-z))\n",
    "\n",
    "    def fit(self, X, y):\n",
    "        X = np.hstack([np.array([1] * len(y)).reshape(-1,1), X])\n",
    "        self.w = [0] * (len(X[0]) + 1)\n",
    "        #self.w = np.random.randn(len(X[0]) + 1)\n",
    "\n",
    "        for epoch in range(self.params['max_iter']):\n",
    "            eta = self.params['eta']\n",
    "            #eta = self.params['eta'] / (epoch + 1)\n",
    "            for i in range(len(y)):\n",
    "                y_pred = self.predict_p([X[i]])[0][0]\n",
    "\n",
    "                for j in range(len(X[i])):\n",
    "                    l2 = self.w[j] * self.params['alpha']\n",
    "                    \n",
    "                    gradient = (y_pred - y[i]) * X[i][j] * y_pred * (1 - y_pred)\n",
    "                    #gradient = X[i][j] * (y_pred - y[i])\n",
    "                    \n",
    "                    self.w[j] = self.w[j] - eta * (gradient + l2)\n",
    "\n",
    "            loss = log_loss(y, self.predict_p(X))\n",
    "            if len(self.loss_) > 0 and abs(loss - self.loss_[-1]) < 10**-6:\n",
    "                break\n",
    "            self.loss_.append(loss)\n",
    "            self.weights_.append(self.w.copy())\n",
    "\n",
    "            if not self.params['quiet']:\n",
    "                print(f'>epoch={epoch}, log_loss={loss:.6f}')\n",
    "\n",
    "        return self\n",
    "\n",
    "    def predict_yx(self, X):\n",
    "        pred = 0\n",
    "        for i in range(len(X)):\n",
    "            pred += self.w[i]*X[i]\n",
    "        return pred\n",
    "    \n",
    "    def predict_p(self, X):\n",
    "        y_pred = []\n",
    "        for i in range(len(X)):\n",
    "            pred = self.predict_yx(X[i])\n",
    "            c1 = self.sigma(pred)\n",
    "            c0 = 1 - c1\n",
    "            y_pred.append([c0, c1])\n",
    "        return y_pred\n",
    "\n",
    "    def predict_proba(self, X):\n",
    "        X = np.hstack([np.array([1] * len(X)).reshape(-1,1), X])\n",
    "        return self.predict_p(X)\n",
    "\n",
    "    def predict(self, X):\n",
    "        return [1 if i[0] < 0.5 else -1 for i in self.predict_proba(X)]"
   ]
  },
  {
   "cell_type": "code",
   "execution_count": 557,
   "metadata": {},
   "outputs": [],
   "source": [
    "from sklearn.datasets import load_breast_cancer\n",
    "cancer = load_breast_cancer()\n",
    "\n",
    "# поменяем метки в y с 0 на -1\n",
    "X, y = cancer.data, [-1 if i == 0 else 1 for i in cancer.target]\n",
    "\n",
    "X_train, X_valid, y_train, y_valid = train_test_split(X, y, test_size=0.3, random_state=17)\n",
    "\n",
    "scaler = StandardScaler()\n",
    "X_train_scaled = scaler.fit_transform(X_train)\n",
    "X_valid_scaled = scaler.transform(X_valid)"
   ]
  },
  {
   "cell_type": "code",
   "execution_count": 585,
   "metadata": {
    "scrolled": true
   },
   "outputs": [
    {
     "name": "stdout",
     "output_type": "stream",
     "text": [
      ">epoch=0, log_loss=0.418617\n",
      ">epoch=1, log_loss=0.314495\n",
      ">epoch=2, log_loss=0.266595\n",
      ">epoch=3, log_loss=0.239013\n",
      ">epoch=4, log_loss=0.220773\n",
      ">epoch=5, log_loss=0.207581\n",
      ">epoch=6, log_loss=0.197433\n",
      ">epoch=7, log_loss=0.189272\n",
      ">epoch=8, log_loss=0.182489\n",
      ">epoch=9, log_loss=0.176708\n"
     ]
    },
    {
     "data": {
      "text/plain": [
       "SGDClassifier(alpha=0.0001, eta=0.001, max_iter=10, quiet=False)"
      ]
     },
     "execution_count": 585,
     "metadata": {},
     "output_type": "execute_result"
    }
   ],
   "source": [
    "sgd_clf = SGDClassifier(alpha=10**-4, eta=10**-3, max_iter=10, quiet=False)\n",
    "sgd_clf.fit(X_train_scaled, y_train)"
   ]
  },
  {
   "cell_type": "code",
   "execution_count": 586,
   "metadata": {},
   "outputs": [
    {
     "name": "stdout",
     "output_type": "stream",
     "text": [
      "train_score: (0.9472361809045227, 0.17670754555636584)\n",
      "valid_score: (0.9239766081871345, 0.2074963499114722)\n"
     ]
    }
   ],
   "source": [
    "print(f'train_score: {accuracy_score(y_train, sgd_clf.predict(X_train_scaled)), log_loss(y_train, sgd_clf.predict_proba(X_train_scaled))}')\n",
    "print(f'valid_score: {accuracy_score(y_valid, sgd_clf.predict(X_valid_scaled)), log_loss(y_valid, sgd_clf.predict_proba(X_valid_scaled))}')"
   ]
  },
  {
   "cell_type": "code",
   "execution_count": 612,
   "metadata": {
    "scrolled": true
   },
   "outputs": [
    {
     "name": "stdout",
     "output_type": "stream",
     "text": [
      ">epoch=0, log_loss=0.087949\n",
      ">epoch=1, log_loss=0.072396\n",
      ">epoch=2, log_loss=0.063732\n",
      ">epoch=3, log_loss=0.059029\n",
      ">epoch=4, log_loss=0.056354\n",
      ">epoch=5, log_loss=0.054437\n",
      ">epoch=6, log_loss=0.052877\n",
      ">epoch=7, log_loss=0.051501\n",
      ">epoch=8, log_loss=0.050230\n",
      ">epoch=9, log_loss=0.049062\n",
      ">epoch=10, log_loss=0.048121\n",
      ">epoch=11, log_loss=0.047619\n",
      ">epoch=12, log_loss=0.047424\n",
      ">epoch=13, log_loss=0.047174\n",
      ">epoch=14, log_loss=0.046852\n",
      ">epoch=15, log_loss=0.046523\n",
      ">epoch=16, log_loss=0.046212\n",
      ">epoch=17, log_loss=0.045929\n",
      ">epoch=18, log_loss=0.045676\n",
      ">epoch=19, log_loss=0.045453\n",
      ">epoch=20, log_loss=0.045256\n",
      ">epoch=21, log_loss=0.045084\n",
      ">epoch=22, log_loss=0.044933\n",
      ">epoch=23, log_loss=0.044801\n",
      ">epoch=24, log_loss=0.044686\n",
      ">epoch=25, log_loss=0.044586\n",
      ">epoch=26, log_loss=0.044498\n",
      ">epoch=27, log_loss=0.044420\n",
      ">epoch=28, log_loss=0.044352\n",
      ">epoch=29, log_loss=0.044292\n",
      ">epoch=30, log_loss=0.044238\n",
      ">epoch=31, log_loss=0.044189\n",
      ">epoch=32, log_loss=0.044145\n",
      ">epoch=33, log_loss=0.044104\n",
      ">epoch=34, log_loss=0.044067\n",
      ">epoch=35, log_loss=0.044031\n",
      ">epoch=36, log_loss=0.043997\n",
      ">epoch=37, log_loss=0.043964\n",
      ">epoch=38, log_loss=0.043931\n",
      ">epoch=39, log_loss=0.043899\n",
      ">epoch=40, log_loss=0.043866\n",
      ">epoch=41, log_loss=0.043833\n",
      ">epoch=42, log_loss=0.043800\n",
      ">epoch=43, log_loss=0.043765\n",
      ">epoch=44, log_loss=0.043730\n",
      ">epoch=45, log_loss=0.043693\n",
      ">epoch=46, log_loss=0.043656\n",
      ">epoch=47, log_loss=0.043616\n",
      ">epoch=48, log_loss=0.043576\n",
      ">epoch=49, log_loss=0.043534\n",
      ">epoch=50, log_loss=0.043490\n",
      ">epoch=51, log_loss=0.043445\n",
      ">epoch=52, log_loss=0.043398\n",
      ">epoch=53, log_loss=0.043350\n",
      ">epoch=54, log_loss=0.043300\n",
      ">epoch=55, log_loss=0.043248\n",
      ">epoch=56, log_loss=0.043195\n",
      ">epoch=57, log_loss=0.043140\n",
      ">epoch=58, log_loss=0.043084\n",
      ">epoch=59, log_loss=0.043026\n",
      ">epoch=60, log_loss=0.042966\n",
      ">epoch=61, log_loss=0.042905\n",
      ">epoch=62, log_loss=0.042842\n",
      ">epoch=63, log_loss=0.042778\n",
      ">epoch=64, log_loss=0.042712\n",
      ">epoch=65, log_loss=0.042644\n",
      ">epoch=66, log_loss=0.042575\n",
      ">epoch=67, log_loss=0.042504\n",
      ">epoch=68, log_loss=0.042432\n",
      ">epoch=69, log_loss=0.042358\n",
      ">epoch=70, log_loss=0.042282\n",
      ">epoch=71, log_loss=0.042205\n",
      ">epoch=72, log_loss=0.042127\n",
      ">epoch=73, log_loss=0.042046\n",
      ">epoch=74, log_loss=0.041964\n",
      ">epoch=75, log_loss=0.041880\n",
      ">epoch=76, log_loss=0.041795\n",
      ">epoch=77, log_loss=0.041707\n",
      ">epoch=78, log_loss=0.041618\n",
      ">epoch=79, log_loss=0.041527\n",
      ">epoch=80, log_loss=0.041434\n",
      ">epoch=81, log_loss=0.041339\n",
      ">epoch=82, log_loss=0.041242\n",
      ">epoch=83, log_loss=0.041143\n",
      ">epoch=84, log_loss=0.041041\n",
      ">epoch=85, log_loss=0.040938\n",
      ">epoch=86, log_loss=0.040832\n",
      ">epoch=87, log_loss=0.040723\n",
      ">epoch=88, log_loss=0.040612\n",
      ">epoch=89, log_loss=0.040499\n",
      ">epoch=90, log_loss=0.040383\n",
      ">epoch=91, log_loss=0.040264\n",
      ">epoch=92, log_loss=0.040142\n",
      ">epoch=93, log_loss=0.040018\n",
      ">epoch=94, log_loss=0.039890\n",
      ">epoch=95, log_loss=0.039760\n",
      ">epoch=96, log_loss=0.039626\n",
      ">epoch=97, log_loss=0.039490\n",
      ">epoch=98, log_loss=0.039351\n",
      ">epoch=99, log_loss=0.039208\n",
      ">epoch=100, log_loss=0.039063\n",
      ">epoch=101, log_loss=0.038915\n",
      ">epoch=102, log_loss=0.038765\n",
      ">epoch=103, log_loss=0.038612\n",
      ">epoch=104, log_loss=0.038457\n",
      ">epoch=105, log_loss=0.038300\n",
      ">epoch=106, log_loss=0.038141\n",
      ">epoch=107, log_loss=0.037981\n",
      ">epoch=108, log_loss=0.037820\n",
      ">epoch=109, log_loss=0.037659\n",
      ">epoch=110, log_loss=0.037498\n",
      ">epoch=111, log_loss=0.037336\n",
      ">epoch=112, log_loss=0.037176\n",
      ">epoch=113, log_loss=0.037016\n",
      ">epoch=114, log_loss=0.036858\n",
      ">epoch=115, log_loss=0.036701\n",
      ">epoch=116, log_loss=0.036547\n",
      ">epoch=117, log_loss=0.036394\n",
      ">epoch=118, log_loss=0.036243\n",
      ">epoch=119, log_loss=0.036095\n",
      ">epoch=120, log_loss=0.035948\n",
      ">epoch=121, log_loss=0.035804\n",
      ">epoch=122, log_loss=0.035662\n",
      ">epoch=123, log_loss=0.035522\n",
      ">epoch=124, log_loss=0.035384\n",
      ">epoch=125, log_loss=0.035248\n",
      ">epoch=126, log_loss=0.035113\n",
      ">epoch=127, log_loss=0.034980\n",
      ">epoch=128, log_loss=0.034849\n",
      ">epoch=129, log_loss=0.034718\n",
      ">epoch=130, log_loss=0.034589\n",
      ">epoch=131, log_loss=0.034461\n",
      ">epoch=132, log_loss=0.034334\n",
      ">epoch=133, log_loss=0.034209\n",
      ">epoch=134, log_loss=0.034085\n",
      ">epoch=135, log_loss=0.033963\n",
      ">epoch=136, log_loss=0.033843\n",
      ">epoch=137, log_loss=0.033725\n",
      ">epoch=138, log_loss=0.033610\n",
      ">epoch=139, log_loss=0.033498\n",
      ">epoch=140, log_loss=0.033389\n",
      ">epoch=141, log_loss=0.033285\n",
      ">epoch=142, log_loss=0.033185\n",
      ">epoch=143, log_loss=0.033090\n",
      ">epoch=144, log_loss=0.033000\n",
      ">epoch=145, log_loss=0.032915\n",
      ">epoch=146, log_loss=0.032837\n",
      ">epoch=147, log_loss=0.032765\n",
      ">epoch=148, log_loss=0.032699\n",
      ">epoch=149, log_loss=0.032639\n",
      ">epoch=150, log_loss=0.032585\n",
      ">epoch=151, log_loss=0.032538\n",
      ">epoch=152, log_loss=0.032496\n",
      ">epoch=153, log_loss=0.032459\n",
      ">epoch=154, log_loss=0.032427\n",
      ">epoch=155, log_loss=0.032401\n",
      ">epoch=156, log_loss=0.032378\n",
      ">epoch=157, log_loss=0.032360\n",
      ">epoch=158, log_loss=0.032346\n",
      ">epoch=159, log_loss=0.032335\n",
      ">epoch=160, log_loss=0.032327\n",
      ">epoch=161, log_loss=0.032322\n",
      ">epoch=162, log_loss=0.032319\n"
     ]
    },
    {
     "data": {
      "text/plain": [
       "SGDClassifier(alpha=1e-06, eta=0.1, max_iter=1000, quiet=False)"
      ]
     },
     "execution_count": 612,
     "metadata": {},
     "output_type": "execute_result"
    }
   ],
   "source": [
    "sgd_clf = SGDClassifier(alpha=10**-6, eta=10**-1, max_iter=1000, quiet=False)\n",
    "sgd_clf.fit(X_train_scaled, y_train)"
   ]
  },
  {
   "cell_type": "code",
   "execution_count": 613,
   "metadata": {},
   "outputs": [
    {
     "name": "stdout",
     "output_type": "stream",
     "text": [
      "train_score: (0.992462311557789, 0.032319028652426196)\n",
      "valid_score: (0.9707602339181286, 0.25032853142569844)\n"
     ]
    }
   ],
   "source": [
    "print(f'train_score: {accuracy_score(y_train, sgd_clf.predict(X_train_scaled)), log_loss(y_train, sgd_clf.predict_proba(X_train_scaled))}')\n",
    "print(f'valid_score: {accuracy_score(y_valid, sgd_clf.predict(X_valid_scaled)), log_loss(y_valid, sgd_clf.predict_proba(X_valid_scaled))}')"
   ]
  },
  {
   "cell_type": "code",
   "execution_count": 617,
   "metadata": {},
   "outputs": [
    {
     "data": {
      "image/png": "[encoded data removed]",
      "text/plain": [
       "<Figure size 648x432 with 1 Axes>"
      ]
     },
     "metadata": {},
     "output_type": "display_data"
    }
   ],
   "source": [
    "plt.plot(range(1, len(sgd_clf.loss_)+1), sgd_clf.loss_, linewidth=1);"
   ]
  },
  {
   "cell_type": "code",
   "execution_count": null,
   "metadata": {},
   "outputs": [],
   "source": []
  }
 ],
 "metadata": {
  "kernelspec": {
   "display_name": "Python 3",
   "language": "python",
   "name": "python3"
  },
  "language_info": {
   "codemirror_mode": {
    "name": "ipython",
    "version": 3
   },
   "file_extension": ".py",
   "mimetype": "text/x-python",
   "name": "python",
   "nbconvert_exporter": "python",
   "pygments_lexer": "ipython3",
   "version": "3.7.3"
  }
 },
 "nbformat": 4,
 "nbformat_minor": 2
}
