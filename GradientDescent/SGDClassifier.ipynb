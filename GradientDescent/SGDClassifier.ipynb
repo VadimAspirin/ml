{
 "cells": [
  {
   "cell_type": "code",
   "execution_count": 913,
   "metadata": {},
   "outputs": [],
   "source": [
    "import numpy as np\n",
    "import pandas as pd\n",
    "from tqdm import tqdm\n",
    "from sklearn.base import BaseEstimator\n",
    "from sklearn.metrics import mean_squared_error, log_loss, roc_auc_score, accuracy_score\n",
    "from sklearn.model_selection import train_test_split\n",
    "%matplotlib inline\n",
    "from matplotlib import pyplot as plt\n",
    "from sklearn.preprocessing import StandardScaler\n",
    "\n",
    "import seaborn as sns\n",
    "sns.set(rc={'figure.figsize': (9, 6)})"
   ]
  },
  {
   "cell_type": "code",
   "execution_count": 914,
   "metadata": {},
   "outputs": [],
   "source": [
    "class SGDClassifier(BaseEstimator):\n",
    "\n",
    "    def __init__(self, eta=10**-3, max_iter=10, C=1, quiet=False):\n",
    "        self.loss_ = []\n",
    "        self.weights_ = []\n",
    "        self.params = {}\n",
    "        self.params['eta'] = eta\n",
    "        self.params['max_iter'] = max_iter\n",
    "        self.params['C'] = C\n",
    "        self.params['quiet'] = quiet\n",
    "        super(SGDClassifier, self).set_params(**self.params)\n",
    "    \n",
    "    def sigma(self, z):\n",
    "        if z > 100:\n",
    "            z = 100\n",
    "        elif z < -100:\n",
    "            z = -100\n",
    "        return 1. / (1 + np.exp(-z))\n",
    "\n",
    "    def fit(self, X, y):\n",
    "        self.w = [0] * (len(X[0]) + 1)\n",
    "#        self.w = np.random.randn(len(X[0]) + 1)\n",
    "\n",
    "        for epoch in range(self.params['max_iter']):\n",
    "            eta = self.params['eta']\n",
    "#            eta = self.params['eta'] / (epoch + 1)\n",
    "            for i in range(len(y)):\n",
    "                y_pred = self.predict_dev(X[i])\n",
    "                gradient = self.params['C'] * y[i] * self.sigma(-y[i] * y_pred)\n",
    "\n",
    "                self.w[0] = self.w[0] + eta * (gradient - self.w[0])\n",
    "                for j in range(len(X[i])):\n",
    "                    self.w[j+1] = self.w[j+1] + eta * ((gradient * X[i][j]) - self.w[j+1])\n",
    "\n",
    "            loss = log_loss(y, self.predict_proba(X))\n",
    "            if len(self.loss_) > 0 and abs(loss - self.loss_[-1]) < 10**-6:\n",
    "                break\n",
    "            self.loss_.append(loss)\n",
    "            self.weights_.append(self.w.copy())\n",
    "\n",
    "            if not self.params['quiet']:\n",
    "                print(f'>epoch={epoch}, log_loss={loss:.6f}')\n",
    "\n",
    "        return self\n",
    "        \n",
    "    def predict_dev(self, X):\n",
    "        pred = self.w[0]\n",
    "        for i in range(len(X)):\n",
    "            pred += self.w[i+1]*X[i]\n",
    "        return pred\n",
    "\n",
    "    def predict_proba(self, X):\n",
    "        y_pred = []\n",
    "        for i in range(len(X)):\n",
    "            pred = self.predict_dev(X[i])\n",
    "            c1 = self.sigma(pred)\n",
    "            c0 = 1 - c1\n",
    "            y_pred.append([c0, c1])\n",
    "        return y_pred\n",
    "\n",
    "    def predict(self, X):\n",
    "        return [1 if i[0] < 0.5 else -1 for i in self.predict_proba(X)]"
   ]
  },
  {
   "cell_type": "code",
   "execution_count": 915,
   "metadata": {},
   "outputs": [],
   "source": [
    "from sklearn.datasets import load_breast_cancer\n",
    "cancer = load_breast_cancer()\n",
    "\n",
    "# поменяем метки в y с 0 на -1\n",
    "X, y = cancer.data, [-1 if i == 0 else 1 for i in cancer.target]\n",
    "\n",
    "X_train, X_valid, y_train, y_valid = train_test_split(X, y, test_size=0.3, random_state=17)\n",
    "\n",
    "scaler = StandardScaler()\n",
    "X_train_scaled = scaler.fit_transform(X_train)\n",
    "X_valid_scaled = scaler.transform(X_valid)"
   ]
  },
  {
   "cell_type": "code",
   "execution_count": 916,
   "metadata": {},
   "outputs": [
    {
     "data": {
      "text/plain": [
       " 1    62.741652\n",
       "-1    37.258348\n",
       "dtype: float64"
      ]
     },
     "execution_count": 916,
     "metadata": {},
     "output_type": "execute_result"
    }
   ],
   "source": [
    "pd.Series(y).value_counts(normalize=True)*100"
   ]
  },
  {
   "cell_type": "code",
   "execution_count": 917,
   "metadata": {
    "scrolled": true
   },
   "outputs": [
    {
     "data": {
      "text/plain": [
       "SGDClassifier(C=0.1, eta=0.001, max_iter=3, quiet=True)"
      ]
     },
     "execution_count": 917,
     "metadata": {},
     "output_type": "execute_result"
    }
   ],
   "source": [
    "sgd_clf = SGDClassifier(C=0.1, eta=10**-3, max_iter=3, quiet=True)\n",
    "sgd_clf.fit(X_train_scaled, y_train)"
   ]
  },
  {
   "cell_type": "code",
   "execution_count": 918,
   "metadata": {},
   "outputs": [
    {
     "name": "stdout",
     "output_type": "stream",
     "text": [
      "train_score: (0.9422110552763819, 0.5841773247989888)\n",
      "valid_score: (0.9239766081871345, 0.5776882900285665)\n"
     ]
    }
   ],
   "source": [
    "print(f'train_score: {accuracy_score(y_train, sgd_clf.predict(X_train_scaled)), log_loss(y_train, sgd_clf.predict_proba(X_train_scaled))}')\n",
    "print(f'valid_score: {accuracy_score(y_valid, sgd_clf.predict(X_valid_scaled)), log_loss(y_valid, sgd_clf.predict_proba(X_valid_scaled))}')"
   ]
  },
  {
   "cell_type": "code",
   "execution_count": 919,
   "metadata": {
    "scrolled": true
   },
   "outputs": [
    {
     "data": {
      "text/html": [
       "<div>\n",
       "<style scoped>\n",
       "    .dataframe tbody tr th:only-of-type {\n",
       "        vertical-align: middle;\n",
       "    }\n",
       "\n",
       "    .dataframe tbody tr th {\n",
       "        vertical-align: top;\n",
       "    }\n",
       "\n",
       "    .dataframe thead th {\n",
       "        text-align: right;\n",
       "    }\n",
       "</style>\n",
       "<table border=\"1\" class=\"dataframe\">\n",
       "  <thead>\n",
       "    <tr style=\"text-align: right;\">\n",
       "      <th></th>\n",
       "      <th>w</th>\n",
       "    </tr>\n",
       "    <tr>\n",
       "      <th>name</th>\n",
       "      <th></th>\n",
       "    </tr>\n",
       "  </thead>\n",
       "  <tbody>\n",
       "    <tr>\n",
       "      <th>worst concave points</th>\n",
       "      <td>0.023761</td>\n",
       "    </tr>\n",
       "    <tr>\n",
       "      <th>mean concave points</th>\n",
       "      <td>0.023088</td>\n",
       "    </tr>\n",
       "    <tr>\n",
       "      <th>worst perimeter</th>\n",
       "      <td>0.022855</td>\n",
       "    </tr>\n",
       "    <tr>\n",
       "      <th>worst radius</th>\n",
       "      <td>0.022560</td>\n",
       "    </tr>\n",
       "    <tr>\n",
       "      <th>mean perimeter</th>\n",
       "      <td>0.021253</td>\n",
       "    </tr>\n",
       "    <tr>\n",
       "      <th>worst area</th>\n",
       "      <td>0.020928</td>\n",
       "    </tr>\n",
       "    <tr>\n",
       "      <th>mean radius</th>\n",
       "      <td>0.020783</td>\n",
       "    </tr>\n",
       "    <tr>\n",
       "      <th>mean concavity</th>\n",
       "      <td>0.020657</td>\n",
       "    </tr>\n",
       "    <tr>\n",
       "      <th>worst concavity</th>\n",
       "      <td>0.020451</td>\n",
       "    </tr>\n",
       "    <tr>\n",
       "      <th>mean area</th>\n",
       "      <td>0.019979</td>\n",
       "    </tr>\n",
       "    <tr>\n",
       "      <th>worst compactness</th>\n",
       "      <td>0.017969</td>\n",
       "    </tr>\n",
       "    <tr>\n",
       "      <th>mean compactness</th>\n",
       "      <td>0.017130</td>\n",
       "    </tr>\n",
       "    <tr>\n",
       "      <th>radius error</th>\n",
       "      <td>0.014980</td>\n",
       "    </tr>\n",
       "    <tr>\n",
       "      <th>perimeter error</th>\n",
       "      <td>0.014708</td>\n",
       "    </tr>\n",
       "    <tr>\n",
       "      <th>worst texture</th>\n",
       "      <td>0.014432</td>\n",
       "    </tr>\n",
       "    <tr>\n",
       "      <th>area error</th>\n",
       "      <td>0.014034</td>\n",
       "    </tr>\n",
       "    <tr>\n",
       "      <th>worst symmetry</th>\n",
       "      <td>0.012964</td>\n",
       "    </tr>\n",
       "    <tr>\n",
       "      <th>worst smoothness</th>\n",
       "      <td>0.012859</td>\n",
       "    </tr>\n",
       "    <tr>\n",
       "      <th>mean texture</th>\n",
       "      <td>0.012849</td>\n",
       "    </tr>\n",
       "    <tr>\n",
       "      <th>concave points error</th>\n",
       "      <td>0.011570</td>\n",
       "    </tr>\n",
       "    <tr>\n",
       "      <th>worst fractal dimension</th>\n",
       "      <td>0.010713</td>\n",
       "    </tr>\n",
       "    <tr>\n",
       "      <th>mean smoothness</th>\n",
       "      <td>0.009890</td>\n",
       "    </tr>\n",
       "    <tr>\n",
       "      <th>mean symmetry</th>\n",
       "      <td>0.008874</td>\n",
       "    </tr>\n",
       "    <tr>\n",
       "      <th>compactness error</th>\n",
       "      <td>0.008399</td>\n",
       "    </tr>\n",
       "    <tr>\n",
       "      <th>concavity error</th>\n",
       "      <td>0.006821</td>\n",
       "    </tr>\n",
       "    <tr>\n",
       "      <th>smoothness error</th>\n",
       "      <td>0.003114</td>\n",
       "    </tr>\n",
       "    <tr>\n",
       "      <th>symmetry error</th>\n",
       "      <td>0.002215</td>\n",
       "    </tr>\n",
       "    <tr>\n",
       "      <th>fractal dimension error</th>\n",
       "      <td>0.001568</td>\n",
       "    </tr>\n",
       "    <tr>\n",
       "      <th>texture error</th>\n",
       "      <td>0.000565</td>\n",
       "    </tr>\n",
       "    <tr>\n",
       "      <th>mean fractal dimension</th>\n",
       "      <td>0.000234</td>\n",
       "    </tr>\n",
       "  </tbody>\n",
       "</table>\n",
       "</div>"
      ],
      "text/plain": [
       "                                w\n",
       "name                             \n",
       "worst concave points     0.023761\n",
       "mean concave points      0.023088\n",
       "worst perimeter          0.022855\n",
       "worst radius             0.022560\n",
       "mean perimeter           0.021253\n",
       "worst area               0.020928\n",
       "mean radius              0.020783\n",
       "mean concavity           0.020657\n",
       "worst concavity          0.020451\n",
       "mean area                0.019979\n",
       "worst compactness        0.017969\n",
       "mean compactness         0.017130\n",
       "radius error             0.014980\n",
       "perimeter error          0.014708\n",
       "worst texture            0.014432\n",
       "area error               0.014034\n",
       "worst symmetry           0.012964\n",
       "worst smoothness         0.012859\n",
       "mean texture             0.012849\n",
       "concave points error     0.011570\n",
       "worst fractal dimension  0.010713\n",
       "mean smoothness          0.009890\n",
       "mean symmetry            0.008874\n",
       "compactness error        0.008399\n",
       "concavity error          0.006821\n",
       "smoothness error         0.003114\n",
       "symmetry error           0.002215\n",
       "fractal dimension error  0.001568\n",
       "texture error            0.000565\n",
       "mean fractal dimension   0.000234"
      ]
     },
     "execution_count": 919,
     "metadata": {},
     "output_type": "execute_result"
    }
   ],
   "source": [
    "pd.DataFrame({'w': pd.Series(sgd_clf.weights_[len(sgd_clf.weights_)-1][1:]).abs(),'name': cancer.feature_names}) \\\n",
    "    .set_index('name') \\\n",
    "    .sort_values(by=['w'], ascending=False)"
   ]
  },
  {
   "cell_type": "code",
   "execution_count": 920,
   "metadata": {},
   "outputs": [
    {
     "data": {
      "image/png": "[encoded data removed]",
      "text/plain": [
       "<Figure size 648x432 with 1 Axes>"
      ]
     },
     "metadata": {},
     "output_type": "display_data"
    }
   ],
   "source": [
    "plt.plot(range(1, len(sgd_clf.loss_)+1), sgd_clf.loss_, linewidth=1);"
   ]
  },
  {
   "cell_type": "code",
   "execution_count": 927,
   "metadata": {
    "scrolled": true
   },
   "outputs": [
    {
     "name": "stdout",
     "output_type": "stream",
     "text": [
      ">epoch=0, log_loss=0.393995\n",
      ">epoch=1, log_loss=0.337472\n",
      ">epoch=2, log_loss=0.318118\n",
      ">epoch=3, log_loss=0.310196\n",
      ">epoch=4, log_loss=0.306689\n",
      ">epoch=5, log_loss=0.305065\n",
      ">epoch=6, log_loss=0.304287\n",
      ">epoch=7, log_loss=0.303903\n",
      ">epoch=8, log_loss=0.303708\n",
      ">epoch=9, log_loss=0.303607\n",
      ">epoch=10, log_loss=0.303553\n",
      ">epoch=11, log_loss=0.303524\n",
      ">epoch=12, log_loss=0.303508\n",
      ">epoch=13, log_loss=0.303499\n",
      ">epoch=14, log_loss=0.303493\n",
      ">epoch=15, log_loss=0.303490\n",
      ">epoch=16, log_loss=0.303488\n",
      ">epoch=17, log_loss=0.303487\n"
     ]
    },
    {
     "data": {
      "text/plain": [
       "SGDClassifier(C=1, eta=0.001, max_iter=20, quiet=False)"
      ]
     },
     "execution_count": 927,
     "metadata": {},
     "output_type": "execute_result"
    }
   ],
   "source": [
    "sgd_clf = SGDClassifier(C=1, eta=10**-3, max_iter=20, quiet=False)\n",
    "sgd_clf.fit(X_train_scaled, y_train)"
   ]
  },
  {
   "cell_type": "code",
   "execution_count": 928,
   "metadata": {},
   "outputs": [
    {
     "name": "stdout",
     "output_type": "stream",
     "text": [
      "train_score: (0.9522613065326633, 0.3034867355946027)\n",
      "valid_score: (0.9473684210526315, 0.30445779561171654)\n"
     ]
    }
   ],
   "source": [
    "print(f'train_score: {accuracy_score(y_train, sgd_clf.predict(X_train_scaled)), log_loss(y_train, sgd_clf.predict_proba(X_train_scaled))}')\n",
    "print(f'valid_score: {accuracy_score(y_valid, sgd_clf.predict(X_valid_scaled)), log_loss(y_valid, sgd_clf.predict_proba(X_valid_scaled))}')"
   ]
  },
  {
   "cell_type": "code",
   "execution_count": 923,
   "metadata": {
    "scrolled": false
   },
   "outputs": [
    {
     "data": {
      "text/html": [
       "<div>\n",
       "<style scoped>\n",
       "    .dataframe tbody tr th:only-of-type {\n",
       "        vertical-align: middle;\n",
       "    }\n",
       "\n",
       "    .dataframe tbody tr th {\n",
       "        vertical-align: top;\n",
       "    }\n",
       "\n",
       "    .dataframe thead th {\n",
       "        text-align: right;\n",
       "    }\n",
       "</style>\n",
       "<table border=\"1\" class=\"dataframe\">\n",
       "  <thead>\n",
       "    <tr style=\"text-align: right;\">\n",
       "      <th></th>\n",
       "      <th>w</th>\n",
       "    </tr>\n",
       "    <tr>\n",
       "      <th>name</th>\n",
       "      <th></th>\n",
       "    </tr>\n",
       "  </thead>\n",
       "  <tbody>\n",
       "    <tr>\n",
       "      <th>worst concave points</th>\n",
       "      <td>0.129160</td>\n",
       "    </tr>\n",
       "    <tr>\n",
       "      <th>worst radius</th>\n",
       "      <td>0.126563</td>\n",
       "    </tr>\n",
       "    <tr>\n",
       "      <th>worst perimeter</th>\n",
       "      <td>0.126362</td>\n",
       "    </tr>\n",
       "    <tr>\n",
       "      <th>mean concave points</th>\n",
       "      <td>0.121981</td>\n",
       "    </tr>\n",
       "    <tr>\n",
       "      <th>worst area</th>\n",
       "      <td>0.115942</td>\n",
       "    </tr>\n",
       "    <tr>\n",
       "      <th>mean perimeter</th>\n",
       "      <td>0.113526</td>\n",
       "    </tr>\n",
       "    <tr>\n",
       "      <th>mean radius</th>\n",
       "      <td>0.112154</td>\n",
       "    </tr>\n",
       "    <tr>\n",
       "      <th>worst concavity</th>\n",
       "      <td>0.108162</td>\n",
       "    </tr>\n",
       "    <tr>\n",
       "      <th>mean area</th>\n",
       "      <td>0.107766</td>\n",
       "    </tr>\n",
       "    <tr>\n",
       "      <th>mean concavity</th>\n",
       "      <td>0.102015</td>\n",
       "    </tr>\n",
       "    <tr>\n",
       "      <th>worst texture</th>\n",
       "      <td>0.095382</td>\n",
       "    </tr>\n",
       "    <tr>\n",
       "      <th>worst compactness</th>\n",
       "      <td>0.091296</td>\n",
       "    </tr>\n",
       "    <tr>\n",
       "      <th>worst symmetry</th>\n",
       "      <td>0.083993</td>\n",
       "    </tr>\n",
       "    <tr>\n",
       "      <th>mean texture</th>\n",
       "      <td>0.082285</td>\n",
       "    </tr>\n",
       "    <tr>\n",
       "      <th>radius error</th>\n",
       "      <td>0.078670</td>\n",
       "    </tr>\n",
       "    <tr>\n",
       "      <th>worst smoothness</th>\n",
       "      <td>0.076799</td>\n",
       "    </tr>\n",
       "    <tr>\n",
       "      <th>perimeter error</th>\n",
       "      <td>0.075253</td>\n",
       "    </tr>\n",
       "    <tr>\n",
       "      <th>mean compactness</th>\n",
       "      <td>0.073654</td>\n",
       "    </tr>\n",
       "    <tr>\n",
       "      <th>area error</th>\n",
       "      <td>0.072448</td>\n",
       "    </tr>\n",
       "    <tr>\n",
       "      <th>worst fractal dimension</th>\n",
       "      <td>0.052148</td>\n",
       "    </tr>\n",
       "    <tr>\n",
       "      <th>mean smoothness</th>\n",
       "      <td>0.044867</td>\n",
       "    </tr>\n",
       "    <tr>\n",
       "      <th>mean symmetry</th>\n",
       "      <td>0.040173</td>\n",
       "    </tr>\n",
       "    <tr>\n",
       "      <th>concave points error</th>\n",
       "      <td>0.040120</td>\n",
       "    </tr>\n",
       "    <tr>\n",
       "      <th>fractal dimension error</th>\n",
       "      <td>0.023474</td>\n",
       "    </tr>\n",
       "    <tr>\n",
       "      <th>mean fractal dimension</th>\n",
       "      <td>0.020607</td>\n",
       "    </tr>\n",
       "    <tr>\n",
       "      <th>smoothness error</th>\n",
       "      <td>0.018548</td>\n",
       "    </tr>\n",
       "    <tr>\n",
       "      <th>compactness error</th>\n",
       "      <td>0.015520</td>\n",
       "    </tr>\n",
       "    <tr>\n",
       "      <th>symmetry error</th>\n",
       "      <td>0.014926</td>\n",
       "    </tr>\n",
       "    <tr>\n",
       "      <th>concavity error</th>\n",
       "      <td>0.008645</td>\n",
       "    </tr>\n",
       "    <tr>\n",
       "      <th>texture error</th>\n",
       "      <td>0.006932</td>\n",
       "    </tr>\n",
       "  </tbody>\n",
       "</table>\n",
       "</div>"
      ],
      "text/plain": [
       "                                w\n",
       "name                             \n",
       "worst concave points     0.129160\n",
       "worst radius             0.126563\n",
       "worst perimeter          0.126362\n",
       "mean concave points      0.121981\n",
       "worst area               0.115942\n",
       "mean perimeter           0.113526\n",
       "mean radius              0.112154\n",
       "worst concavity          0.108162\n",
       "mean area                0.107766\n",
       "mean concavity           0.102015\n",
       "worst texture            0.095382\n",
       "worst compactness        0.091296\n",
       "worst symmetry           0.083993\n",
       "mean texture             0.082285\n",
       "radius error             0.078670\n",
       "worst smoothness         0.076799\n",
       "perimeter error          0.075253\n",
       "mean compactness         0.073654\n",
       "area error               0.072448\n",
       "worst fractal dimension  0.052148\n",
       "mean smoothness          0.044867\n",
       "mean symmetry            0.040173\n",
       "concave points error     0.040120\n",
       "fractal dimension error  0.023474\n",
       "mean fractal dimension   0.020607\n",
       "smoothness error         0.018548\n",
       "compactness error        0.015520\n",
       "symmetry error           0.014926\n",
       "concavity error          0.008645\n",
       "texture error            0.006932"
      ]
     },
     "execution_count": 923,
     "metadata": {},
     "output_type": "execute_result"
    }
   ],
   "source": [
    "pd.DataFrame({'w': pd.Series(sgd_clf.weights_[len(sgd_clf.weights_)-1][1:]).abs(),'name': cancer.feature_names}) \\\n",
    "    .set_index('name') \\\n",
    "    .sort_values(by=['w'], ascending=False)"
   ]
  },
  {
   "cell_type": "code",
   "execution_count": 924,
   "metadata": {},
   "outputs": [
    {
     "data": {
      "image/png": "[encoded data removed]",
      "text/plain": [
       "<Figure size 648x432 with 1 Axes>"
      ]
     },
     "metadata": {},
     "output_type": "display_data"
    }
   ],
   "source": [
    "plt.plot(range(1, len(sgd_clf.loss_)+1), sgd_clf.loss_, linewidth=1);"
   ]
  },
  {
   "cell_type": "code",
   "execution_count": 929,
   "metadata": {},
   "outputs": [
    {
     "name": "stdout",
     "output_type": "stream",
     "text": [
      ">epoch=0, log_loss=0.123708\n",
      ">epoch=1, log_loss=0.111550\n",
      ">epoch=2, log_loss=0.108271\n",
      ">epoch=3, log_loss=0.107128\n",
      ">epoch=4, log_loss=0.106660\n",
      ">epoch=5, log_loss=0.106441\n",
      ">epoch=6, log_loss=0.106330\n",
      ">epoch=7, log_loss=0.106269\n",
      ">epoch=8, log_loss=0.106235\n",
      ">epoch=9, log_loss=0.106215\n",
      ">epoch=10, log_loss=0.106203\n",
      ">epoch=11, log_loss=0.106197\n",
      ">epoch=12, log_loss=0.106193\n",
      ">epoch=13, log_loss=0.106190\n",
      ">epoch=14, log_loss=0.106189\n"
     ]
    },
    {
     "data": {
      "text/plain": [
       "SGDClassifier(C=20, eta=0.001, max_iter=20, quiet=False)"
      ]
     },
     "execution_count": 929,
     "metadata": {},
     "output_type": "execute_result"
    }
   ],
   "source": [
    "sgd_clf = SGDClassifier(C=20, eta=10**-3, max_iter=20, quiet=False)\n",
    "sgd_clf.fit(X_train_scaled, y_train)"
   ]
  },
  {
   "cell_type": "code",
   "execution_count": 930,
   "metadata": {},
   "outputs": [
    {
     "name": "stdout",
     "output_type": "stream",
     "text": [
      "train_score: (0.9798994974874372, 0.10618817833202845)\n",
      "valid_score: (0.9766081871345029, 0.12475751862819372)\n"
     ]
    }
   ],
   "source": [
    "print(f'train_score: {accuracy_score(y_train, sgd_clf.predict(X_train_scaled)), log_loss(y_train, sgd_clf.predict_proba(X_train_scaled))}')\n",
    "print(f'valid_score: {accuracy_score(y_valid, sgd_clf.predict(X_valid_scaled)), log_loss(y_valid, sgd_clf.predict_proba(X_valid_scaled))}')"
   ]
  },
  {
   "cell_type": "code",
   "execution_count": 931,
   "metadata": {},
   "outputs": [
    {
     "data": {
      "image/png": "[encoded data removed]",
      "text/plain": [
       "<Figure size 648x432 with 1 Axes>"
      ]
     },
     "metadata": {},
     "output_type": "display_data"
    }
   ],
   "source": [
    "plt.plot(range(1, len(sgd_clf.loss_)+1), sgd_clf.loss_, linewidth=1);"
   ]
  },
  {
   "cell_type": "code",
   "execution_count": null,
   "metadata": {},
   "outputs": [],
   "source": []
  },
  {
   "cell_type": "code",
   "execution_count": 584,
   "metadata": {},
   "outputs": [
    {
     "name": "stdout",
     "output_type": "stream",
     "text": [
      "train_score: (0.9899497487437185, 0.015788417224240077)\n",
      "valid_score: (0.9473684210526315, 0.6888383948325938)\n"
     ]
    }
   ],
   "source": [
    "from sklearn.linear_model import SGDClassifier as _SGDClassifier\n",
    "_sgd = _SGDClassifier(loss='log')\n",
    "_sgd.fit(X_train_scaled, y_train)\n",
    "\n",
    "print(f'train_score: {accuracy_score(y_train, _sgd.predict(X_train_scaled)), log_loss(y_train, _sgd.predict_proba(X_train_scaled))}')\n",
    "print(f'valid_score: {accuracy_score(y_valid, _sgd.predict(X_valid_scaled)), log_loss(y_valid, _sgd.predict_proba(X_valid_scaled))}')"
   ]
  },
  {
   "cell_type": "code",
   "execution_count": 727,
   "metadata": {},
   "outputs": [
    {
     "data": {
      "text/html": [
       "<div>\n",
       "<style scoped>\n",
       "    .dataframe tbody tr th:only-of-type {\n",
       "        vertical-align: middle;\n",
       "    }\n",
       "\n",
       "    .dataframe tbody tr th {\n",
       "        vertical-align: top;\n",
       "    }\n",
       "\n",
       "    .dataframe thead th {\n",
       "        text-align: right;\n",
       "    }\n",
       "</style>\n",
       "<table border=\"1\" class=\"dataframe\">\n",
       "  <thead>\n",
       "    <tr style=\"text-align: right;\">\n",
       "      <th></th>\n",
       "      <th>w</th>\n",
       "    </tr>\n",
       "    <tr>\n",
       "      <th>name</th>\n",
       "      <th></th>\n",
       "    </tr>\n",
       "  </thead>\n",
       "  <tbody>\n",
       "    <tr>\n",
       "      <th>mean concavity</th>\n",
       "      <td>12.633003</td>\n",
       "    </tr>\n",
       "    <tr>\n",
       "      <th>radius error</th>\n",
       "      <td>11.628175</td>\n",
       "    </tr>\n",
       "    <tr>\n",
       "      <th>mean concave points</th>\n",
       "      <td>10.023059</td>\n",
       "    </tr>\n",
       "    <tr>\n",
       "      <th>worst concavity</th>\n",
       "      <td>9.316846</td>\n",
       "    </tr>\n",
       "    <tr>\n",
       "      <th>fractal dimension error</th>\n",
       "      <td>8.926897</td>\n",
       "    </tr>\n",
       "    <tr>\n",
       "      <th>worst radius</th>\n",
       "      <td>8.565611</td>\n",
       "    </tr>\n",
       "    <tr>\n",
       "      <th>area error</th>\n",
       "      <td>8.518304</td>\n",
       "    </tr>\n",
       "    <tr>\n",
       "      <th>compactness error</th>\n",
       "      <td>7.654784</td>\n",
       "    </tr>\n",
       "    <tr>\n",
       "      <th>worst texture</th>\n",
       "      <td>7.634668</td>\n",
       "    </tr>\n",
       "    <tr>\n",
       "      <th>worst area</th>\n",
       "      <td>6.628516</td>\n",
       "    </tr>\n",
       "    <tr>\n",
       "      <th>worst fractal dimension</th>\n",
       "      <td>5.732421</td>\n",
       "    </tr>\n",
       "    <tr>\n",
       "      <th>worst perimeter</th>\n",
       "      <td>5.530301</td>\n",
       "    </tr>\n",
       "    <tr>\n",
       "      <th>worst concave points</th>\n",
       "      <td>4.905436</td>\n",
       "    </tr>\n",
       "    <tr>\n",
       "      <th>perimeter error</th>\n",
       "      <td>4.614600</td>\n",
       "    </tr>\n",
       "    <tr>\n",
       "      <th>worst compactness</th>\n",
       "      <td>4.366196</td>\n",
       "    </tr>\n",
       "    <tr>\n",
       "      <th>mean compactness</th>\n",
       "      <td>3.968567</td>\n",
       "    </tr>\n",
       "    <tr>\n",
       "      <th>texture error</th>\n",
       "      <td>3.633930</td>\n",
       "    </tr>\n",
       "    <tr>\n",
       "      <th>mean smoothness</th>\n",
       "      <td>3.339616</td>\n",
       "    </tr>\n",
       "    <tr>\n",
       "      <th>smoothness error</th>\n",
       "      <td>3.012231</td>\n",
       "    </tr>\n",
       "    <tr>\n",
       "      <th>worst symmetry</th>\n",
       "      <td>2.976323</td>\n",
       "    </tr>\n",
       "    <tr>\n",
       "      <th>mean texture</th>\n",
       "      <td>2.324056</td>\n",
       "    </tr>\n",
       "    <tr>\n",
       "      <th>mean perimeter</th>\n",
       "      <td>2.232852</td>\n",
       "    </tr>\n",
       "    <tr>\n",
       "      <th>worst smoothness</th>\n",
       "      <td>2.088441</td>\n",
       "    </tr>\n",
       "    <tr>\n",
       "      <th>mean radius</th>\n",
       "      <td>2.017090</td>\n",
       "    </tr>\n",
       "    <tr>\n",
       "      <th>symmetry error</th>\n",
       "      <td>1.941489</td>\n",
       "    </tr>\n",
       "    <tr>\n",
       "      <th>concave points error</th>\n",
       "      <td>1.861934</td>\n",
       "    </tr>\n",
       "    <tr>\n",
       "      <th>mean area</th>\n",
       "      <td>0.988281</td>\n",
       "    </tr>\n",
       "    <tr>\n",
       "      <th>mean fractal dimension</th>\n",
       "      <td>0.898996</td>\n",
       "    </tr>\n",
       "    <tr>\n",
       "      <th>concavity error</th>\n",
       "      <td>0.336391</td>\n",
       "    </tr>\n",
       "    <tr>\n",
       "      <th>mean symmetry</th>\n",
       "      <td>0.149771</td>\n",
       "    </tr>\n",
       "  </tbody>\n",
       "</table>\n",
       "</div>"
      ],
      "text/plain": [
       "                                 w\n",
       "name                              \n",
       "mean concavity           12.633003\n",
       "radius error             11.628175\n",
       "mean concave points      10.023059\n",
       "worst concavity           9.316846\n",
       "fractal dimension error   8.926897\n",
       "worst radius              8.565611\n",
       "area error                8.518304\n",
       "compactness error         7.654784\n",
       "worst texture             7.634668\n",
       "worst area                6.628516\n",
       "worst fractal dimension   5.732421\n",
       "worst perimeter           5.530301\n",
       "worst concave points      4.905436\n",
       "perimeter error           4.614600\n",
       "worst compactness         4.366196\n",
       "mean compactness          3.968567\n",
       "texture error             3.633930\n",
       "mean smoothness           3.339616\n",
       "smoothness error          3.012231\n",
       "worst symmetry            2.976323\n",
       "mean texture              2.324056\n",
       "mean perimeter            2.232852\n",
       "worst smoothness          2.088441\n",
       "mean radius               2.017090\n",
       "symmetry error            1.941489\n",
       "concave points error      1.861934\n",
       "mean area                 0.988281\n",
       "mean fractal dimension    0.898996\n",
       "concavity error           0.336391\n",
       "mean symmetry             0.149771"
      ]
     },
     "execution_count": 727,
     "metadata": {},
     "output_type": "execute_result"
    }
   ],
   "source": [
    "pd.DataFrame({'w': pd.Series(_sgd.coef_[0]).abs(),'name': cancer.feature_names}) \\\n",
    "    .set_index('name') \\\n",
    "    .sort_values(by=['w'], ascending=False)"
   ]
  },
  {
   "cell_type": "code",
   "execution_count": null,
   "metadata": {},
   "outputs": [],
   "source": []
  },
  {
   "cell_type": "code",
   "execution_count": null,
   "metadata": {},
   "outputs": [],
   "source": []
  }
 ],
 "metadata": {
  "kernelspec": {
   "display_name": "Python 3",
   "language": "python",
   "name": "python3"
  },
  "language_info": {
   "codemirror_mode": {
    "name": "ipython",
    "version": 3
   },
   "file_extension": ".py",
   "mimetype": "text/x-python",
   "name": "python",
   "nbconvert_exporter": "python",
   "pygments_lexer": "ipython3",
   "version": "3.7.3"
  }
 },
 "nbformat": 4,
 "nbformat_minor": 2
}
