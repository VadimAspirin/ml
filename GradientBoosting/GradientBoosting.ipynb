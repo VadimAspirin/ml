{
 "cells": [
  {
   "cell_type": "code",
   "execution_count": 29,
   "metadata": {},
   "outputs": [],
   "source": [
    "import numpy as np\n",
    "from matplotlib import pyplot as plt\n",
    "%matplotlib inline\n",
    "from sklearn.base import BaseEstimator\n",
    "from sklearn.datasets import load_breast_cancer, load_boston\n",
    "from sklearn.model_selection import train_test_split"
   ]
  },
  {
   "cell_type": "code",
   "execution_count": 501,
   "metadata": {},
   "outputs": [],
   "source": [
    "from sklearn.metrics import mean_squared_error, log_loss, roc_auc_score, accuracy_score\n",
    "from sklearn.tree import DecisionTreeRegressor"
   ]
  },
  {
   "cell_type": "code",
   "execution_count": 518,
   "metadata": {},
   "outputs": [],
   "source": [
    "class GradientBoosting(BaseEstimator):\n",
    "\n",
    "    def one_zero_change(self, x, x_min=1e-7):\n",
    "        _x = x.copy()\n",
    "        _x = np.where(_x < x_min, x_min, _x)\n",
    "        _x = np.where(_x > (1 - x_min), 1 - x_min, _x)\n",
    "        return _x\n",
    "    \n",
    "    def sigma(self, z):\n",
    "        _z = z.copy()\n",
    "        _z = np.where(_z > 100, 100, _z)\n",
    "        _z = np.where(_z < -100, -100, _z)\n",
    "        return 1. / (1 + np.exp(-_z))\n",
    "\n",
    "    def log_loss_grad(self, y, p):\n",
    "        return (y - p) / (self.one_zero_change(p) * (1 - self.one_zero_change(p)))\n",
    "    \n",
    "    def mse_grad(self, y, p):\n",
    "        return ((p - y) * 2) / len(y)\n",
    "    \n",
    "    def rmsle(self, y, p):\n",
    "        return np.sum((np.log(p + 1) - np.log(y + 1)) ** 2) / len(y)\n",
    "\n",
    "    def rmsle_grad(self, y, p):\n",
    "        return np.log((p + 1) / (y + 1)) / (len(y) * (self.one_zero_change(p) + 1) * self.rmsle(y, p))\n",
    "\n",
    "    def __init__(self, loss='mse', n_estimators=10, learning_rate=1e-2, max_depth=3, random_state=17):\n",
    "        self.params = {}\n",
    "        self.params['loss'] = loss\n",
    "        self.params['n_estimators'] = n_estimators\n",
    "        self.params['learning_rate'] = learning_rate\n",
    "        self.params['max_depth'] = max_depth\n",
    "        self.params['random_state'] = random_state\n",
    "        \n",
    "        self.is_clf = False\n",
    "        \n",
    "        if self.params['loss'] == 'mse':\n",
    "            self.loss_func = mean_squared_error\n",
    "            self.loss_grad = self.mse_grad\n",
    "        elif self.params['loss'] == 'rmsle':\n",
    "            self.loss_func = self.rmsle\n",
    "            self.loss_grad = self.rmsle_grad\n",
    "        elif self.params['loss'] == 'log_loss':\n",
    "            self.loss_func = log_loss\n",
    "            self.loss_grad = self.log_loss_grad\n",
    "            self.is_clf = True\n",
    "        else:\n",
    "            raise ValueError(f'loss param \"{loss}\" not found')\n",
    "            \n",
    "        self.loss_by_iter_ = []\n",
    "        self.residuals_by_iter_ = []\n",
    "        self.trees_ = []\n",
    "        self.b0 = None\n",
    "        \n",
    "        super(GradientBoosting, self).set_params(**self.params)\n",
    "    \n",
    "    def fit(self, X, y):\n",
    "        X_mod = X\n",
    "        self.b0 = y.mean()\n",
    "        y_pred = [[self.b0]] * len(y)\n",
    "        y_pred = np.array(y_pred)\n",
    "\n",
    "        for i in range(self.params['n_estimators']):\n",
    "            grad = self.loss_grad(y, y_pred)\n",
    "            r = -1 * grad\n",
    "            b = DecisionTreeRegressor(max_depth=self.params['max_depth'], \n",
    "                                      random_state=self.params['random_state']).fit(X, r)\n",
    "            self.trees_.append(b)\n",
    "            y_pred = self.predict_proba(X)\n",
    "            loss = self.loss_func(y, y_pred)\n",
    "            self.loss_by_iter_.append(loss)\n",
    "            self.residuals_by_iter_.append(r)\n",
    "\n",
    "        return self\n",
    "    \n",
    "    def predict_proba(self, X):\n",
    "        if self.b0 is None:\n",
    "            raise RuntimeError('First do run \"fit\" function')\n",
    "        y_pred = self.b0\n",
    "        for tree in self.trees_:\n",
    "            y_pred_i = tree.predict(X).reshape(-1, 1)\n",
    "            y_pred_i = y_pred_i * self.params['learning_rate']\n",
    "            y_pred += y_pred_i\n",
    "        if self.is_clf:\n",
    "            return 1 - self.sigma(y_pred)\n",
    "        return y_pred\n",
    "    \n",
    "    def predict(self, X):\n",
    "        y_pred = self.predict_proba(X)\n",
    "        if self.is_clf:\n",
    "            return np.where(y_pred < 0.5, 0, 1)\n",
    "        return y_pred"
   ]
  },
  {
   "cell_type": "code",
   "execution_count": 519,
   "metadata": {},
   "outputs": [],
   "source": [
    "X_regr_toy = np.arange(7).reshape(-1, 1)\n",
    "y_regr_toy = ((X_regr_toy - 3) ** 2).astype('float64')"
   ]
  },
  {
   "cell_type": "code",
   "execution_count": 520,
   "metadata": {},
   "outputs": [
    {
     "data": {
      "image/png": "[encoded data removed]",
      "text/plain": [
       "<Figure size 432x288 with 1 Axes>"
      ]
     },
     "metadata": {
      "needs_background": "light"
     },
     "output_type": "display_data"
    }
   ],
   "source": [
    "plt.scatter(X_regr_toy, y_regr_toy);"
   ]
  },
  {
   "cell_type": "code",
   "execution_count": 521,
   "metadata": {},
   "outputs": [
    {
     "data": {
      "text/plain": [
       "GradientBoosting(learning_rate=0.1, loss='mse', max_depth=3, n_estimators=200,\n",
       "                 random_state=17)"
      ]
     },
     "execution_count": 521,
     "metadata": {},
     "output_type": "execute_result"
    }
   ],
   "source": [
    "gb = GradientBoosting(loss='mse', n_estimators=200, learning_rate=1e-1, max_depth=3, random_state=17)\n",
    "gb.fit(X_regr_toy, y_regr_toy)"
   ]
  },
  {
   "cell_type": "code",
   "execution_count": 522,
   "metadata": {},
   "outputs": [
    {
     "data": {
      "image/png": "[encoded data removed]",
      "text/plain": [
       "<Figure size 432x288 with 1 Axes>"
      ]
     },
     "metadata": {
      "needs_background": "light"
     },
     "output_type": "display_data"
    }
   ],
   "source": [
    "y_pred = gb.predict(X_regr_toy)\n",
    "plt.scatter(X_regr_toy, y_pred);"
   ]
  },
  {
   "cell_type": "code",
   "execution_count": 523,
   "metadata": {},
   "outputs": [
    {
     "data": {
      "image/png": "[encoded data removed]",
      "text/plain": [
       "<Figure size 432x288 with 1 Axes>"
      ]
     },
     "metadata": {
      "needs_background": "light"
     },
     "output_type": "display_data"
    }
   ],
   "source": [
    "plt.plot(range(1, len(gb.loss_by_iter_)+1), gb.loss_by_iter_, linewidth=1);"
   ]
  },
  {
   "cell_type": "code",
   "execution_count": 524,
   "metadata": {},
   "outputs": [
    {
     "data": {
      "text/plain": [
       "GradientBoosting(learning_rate=0.1, loss='rmsle', max_depth=3, n_estimators=200,\n",
       "                 random_state=17)"
      ]
     },
     "execution_count": 524,
     "metadata": {},
     "output_type": "execute_result"
    }
   ],
   "source": [
    "gb = GradientBoosting(loss='rmsle', n_estimators=200, learning_rate=1e-1, max_depth=3, random_state=17)\n",
    "gb.fit(X_regr_toy, y_regr_toy)"
   ]
  },
  {
   "cell_type": "code",
   "execution_count": 525,
   "metadata": {},
   "outputs": [
    {
     "data": {
      "image/png": "[encoded data removed]",
      "text/plain": [
       "<Figure size 432x288 with 1 Axes>"
      ]
     },
     "metadata": {
      "needs_background": "light"
     },
     "output_type": "display_data"
    }
   ],
   "source": [
    "y_pred = gb.predict(X_regr_toy)\n",
    "plt.scatter(X_regr_toy, y_pred);"
   ]
  },
  {
   "cell_type": "code",
   "execution_count": 526,
   "metadata": {},
   "outputs": [
    {
     "data": {
      "image/png": "[encoded data removed]",
      "text/plain": [
       "<Figure size 432x288 with 1 Axes>"
      ]
     },
     "metadata": {
      "needs_background": "light"
     },
     "output_type": "display_data"
    }
   ],
   "source": [
    "plt.plot(range(1, len(gb.loss_by_iter_)+1), gb.loss_by_iter_, linewidth=1);"
   ]
  },
  {
   "cell_type": "code",
   "execution_count": 527,
   "metadata": {},
   "outputs": [],
   "source": [
    "X_clf_toy = np.c_[np.arange(7), (np.arange(7) - 3) ** 2]\n",
    "y_clf_toy = np.array([0, 1, 0, 1, 0, 1, 0]).reshape(-1, 1)"
   ]
  },
  {
   "cell_type": "code",
   "execution_count": 528,
   "metadata": {},
   "outputs": [
    {
     "data": {
      "image/png": "[encoded data removed]",
      "text/plain": [
       "<Figure size 432x288 with 1 Axes>"
      ]
     },
     "metadata": {
      "needs_background": "light"
     },
     "output_type": "display_data"
    }
   ],
   "source": [
    "plt.scatter(X_clf_toy[:, 0], X_clf_toy[:, 1], c=y_clf_toy.reshape(-1));"
   ]
  },
  {
   "cell_type": "code",
   "execution_count": 529,
   "metadata": {},
   "outputs": [
    {
     "data": {
      "text/plain": [
       "GradientBoosting(learning_rate=0.05, loss='log_loss', max_depth=3,\n",
       "                 n_estimators=10, random_state=17)"
      ]
     },
     "execution_count": 529,
     "metadata": {},
     "output_type": "execute_result"
    }
   ],
   "source": [
    "gb = GradientBoosting(loss='log_loss', n_estimators=10, learning_rate=0.05, max_depth=3, random_state=17)\n",
    "gb.fit(X_clf_toy, y_clf_toy)"
   ]
  },
  {
   "cell_type": "code",
   "execution_count": 530,
   "metadata": {},
   "outputs": [
    {
     "data": {
      "image/png": "[encoded data removed]",
      "text/plain": [
       "<Figure size 432x288 with 1 Axes>"
      ]
     },
     "metadata": {
      "needs_background": "light"
     },
     "output_type": "display_data"
    }
   ],
   "source": [
    "y_pred = gb.predict(X_clf_toy)\n",
    "plt.scatter(X_clf_toy[:, 0], X_clf_toy[:, 1], c=y_pred.reshape(-1));"
   ]
  },
  {
   "cell_type": "code",
   "execution_count": 531,
   "metadata": {},
   "outputs": [
    {
     "data": {
      "image/png": "[encoded data removed]",
      "text/plain": [
       "<Figure size 432x288 with 1 Axes>"
      ]
     },
     "metadata": {
      "needs_background": "light"
     },
     "output_type": "display_data"
    }
   ],
   "source": [
    "plt.plot(range(1, len(gb.loss_by_iter_)+1), gb.loss_by_iter_, linewidth=1);"
   ]
  },
  {
   "cell_type": "code",
   "execution_count": 532,
   "metadata": {},
   "outputs": [],
   "source": [
    "boston = load_boston()\n",
    "X, y = boston.data, boston.target.reshape(-1, 1)"
   ]
  },
  {
   "cell_type": "code",
   "execution_count": 533,
   "metadata": {},
   "outputs": [],
   "source": [
    "X_train, X_test, y_train, y_test = train_test_split(X, y, test_size=0.3, random_state=17)"
   ]
  },
  {
   "cell_type": "code",
   "execution_count": 534,
   "metadata": {},
   "outputs": [
    {
     "data": {
      "text/plain": [
       "GradientBoosting(learning_rate=3, loss='mse', max_depth=10, n_estimators=300,\n",
       "                 random_state=17)"
      ]
     },
     "execution_count": 534,
     "metadata": {},
     "output_type": "execute_result"
    }
   ],
   "source": [
    "gb = GradientBoosting(loss='mse', n_estimators=300, learning_rate=3, max_depth=10, random_state=17)\n",
    "gb.fit(X_train, y_train)"
   ]
  },
  {
   "cell_type": "code",
   "execution_count": 535,
   "metadata": {},
   "outputs": [
    {
     "data": {
      "image/png": "[encoded data removed]",
      "text/plain": [
       "<Figure size 432x288 with 1 Axes>"
      ]
     },
     "metadata": {
      "needs_background": "light"
     },
     "output_type": "display_data"
    }
   ],
   "source": [
    "plt.plot(range(1, len(gb.loss_by_iter_)+1), gb.loss_by_iter_, linewidth=1);"
   ]
  },
  {
   "cell_type": "code",
   "execution_count": 536,
   "metadata": {},
   "outputs": [
    {
     "data": {
      "text/plain": [
       "0.006142065060583258"
      ]
     },
     "execution_count": 536,
     "metadata": {},
     "output_type": "execute_result"
    }
   ],
   "source": [
    "gb.loss_by_iter_[-1]"
   ]
  },
  {
   "cell_type": "code",
   "execution_count": 537,
   "metadata": {},
   "outputs": [],
   "source": [
    "y_pred = gb.predict(X_test)"
   ]
  },
  {
   "cell_type": "code",
   "execution_count": 538,
   "metadata": {},
   "outputs": [
    {
     "data": {
      "image/png": "[encoded data removed]",
      "text/plain": [
       "<Figure size 432x288 with 1 Axes>"
      ]
     },
     "metadata": {
      "needs_background": "light"
     },
     "output_type": "display_data"
    }
   ],
   "source": [
    "plt.hist(y_test, bins=15)\n",
    "plt.hist(y_pred, alpha=0.5, bins=15);"
   ]
  },
  {
   "cell_type": "code",
   "execution_count": 539,
   "metadata": {},
   "outputs": [
    {
     "data": {
      "text/plain": [
       "10.060429965696104"
      ]
     },
     "execution_count": 539,
     "metadata": {},
     "output_type": "execute_result"
    }
   ],
   "source": [
    "mean_squared_error(y_test, y_pred)"
   ]
  },
  {
   "cell_type": "code",
   "execution_count": 540,
   "metadata": {},
   "outputs": [],
   "source": [
    "cancer = load_breast_cancer()\n",
    "X, y = cancer.data, cancer.target.reshape(-1, 1)"
   ]
  },
  {
   "cell_type": "code",
   "execution_count": 541,
   "metadata": {},
   "outputs": [],
   "source": [
    "X_train, X_test, y_train, y_test = train_test_split(X, y, test_size=0.3, random_state=17)"
   ]
  },
  {
   "cell_type": "code",
   "execution_count": 542,
   "metadata": {},
   "outputs": [
    {
     "data": {
      "text/plain": [
       "GradientBoosting(learning_rate=0.01, loss='log_loss', max_depth=3,\n",
       "                 n_estimators=200, random_state=17)"
      ]
     },
     "execution_count": 542,
     "metadata": {},
     "output_type": "execute_result"
    }
   ],
   "source": [
    "gb = GradientBoosting(loss='log_loss', n_estimators=200, learning_rate=1e-2, max_depth=3, random_state=17)\n",
    "gb.fit(X_train, y_train)"
   ]
  },
  {
   "cell_type": "code",
   "execution_count": 543,
   "metadata": {},
   "outputs": [
    {
     "data": {
      "image/png": "[encoded data removed]",
      "text/plain": [
       "<Figure size 432x288 with 1 Axes>"
      ]
     },
     "metadata": {
      "needs_background": "light"
     },
     "output_type": "display_data"
    }
   ],
   "source": [
    "plt.plot(range(1, len(gb.loss_by_iter_)+1), gb.loss_by_iter_, linewidth=1);"
   ]
  },
  {
   "cell_type": "code",
   "execution_count": 544,
   "metadata": {},
   "outputs": [],
   "source": [
    "y_pred = gb.predict(X_test)\n",
    "y_pred_proba = gb.predict_proba(X_test)"
   ]
  },
  {
   "cell_type": "code",
   "execution_count": 545,
   "metadata": {},
   "outputs": [
    {
     "data": {
      "text/plain": [
       "(0.9807749627421759, 0.9649122807017544)"
      ]
     },
     "execution_count": 545,
     "metadata": {},
     "output_type": "execute_result"
    }
   ],
   "source": [
    "roc_auc_score(y_test, y_pred_proba), accuracy_score(y_test, y_pred)"
   ]
  },
  {
   "cell_type": "code",
   "execution_count": null,
   "metadata": {},
   "outputs": [],
   "source": []
  }
 ],
 "metadata": {
  "kernelspec": {
   "display_name": "Python 3",
   "language": "python",
   "name": "python3"
  },
  "language_info": {
   "codemirror_mode": {
    "name": "ipython",
    "version": 3
   },
   "file_extension": ".py",
   "mimetype": "text/x-python",
   "name": "python",
   "nbconvert_exporter": "python",
   "pygments_lexer": "ipython3",
   "version": "3.7.3"
  }
 },
 "nbformat": 4,
 "nbformat_minor": 2
}
